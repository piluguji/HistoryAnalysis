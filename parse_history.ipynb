{
 "cells": [
  {
   "cell_type": "code",
   "execution_count": 149,
   "metadata": {},
   "outputs": [],
   "source": [
    "import pandas as pd\n",
    "import numpy as np\n",
    "import json\n",
    "from datetime import datetime, timezone, timedelta\n"
   ]
  },
  {
   "cell_type": "code",
   "execution_count": 150,
   "metadata": {},
   "outputs": [
    {
     "name": "stdout",
     "output_type": "stream",
     "text": [
      "JSON loaded successfully!\n"
     ]
    }
   ],
   "source": [
    "import json\n",
    "\n",
    "with open(\"Aaryan_takeout/History.json\", \"rb\") as f:  # Open in binary mode\n",
    "    raw_data = f.read().decode(\"utf-8\", errors=\"replace\")  # Replace undefined characters with '#'\n",
    "    raw_data = raw_data.replace(\"?\", \"#\")  # Convert '?' to '#'\n",
    "\n",
    "# Convert JSON string to Python object\n",
    "data = json.loads(raw_data)\n",
    "\n",
    "print(\"JSON loaded successfully!\")"
   ]
  },
  {
   "cell_type": "code",
   "execution_count": 151,
   "metadata": {},
   "outputs": [],
   "source": [
    "df = pd.DataFrame(data[\"Browser History\"])\n",
    "\n",
    "# Convert `time_usec` to datetime\n",
    "df[\"datetime\"] = pd.to_datetime(df[\"time_usec\"] / 1000000, unit=\"s\", utc=True)\n",
    "df = df.drop(columns=['favicon_url', 'page_transition_qualifier', 'time_usec', 'url', 'client_id'])\n",
    "df['title'] = df['title'].apply(lambda x: x.replace(' - Google Search', ''))"
   ]
  },
  {
   "cell_type": "code",
   "execution_count": 152,
   "metadata": {},
   "outputs": [],
   "source": [
    "dec_1 = datetime(2024, 12, 1, tzinfo=timezone.utc)\n",
    "feb_1 = datetime(2025, 2, 1, tzinfo=timezone.utc)\n",
    "\n",
    "# Filter rows within the last month\n",
    "df = df[(df[\"datetime\"] >= dec_1) & (df[\"datetime\"] <= feb_1)]"
   ]
  },
  {
   "cell_type": "code",
   "execution_count": 153,
   "metadata": {},
   "outputs": [],
   "source": [
    "df.to_pickle(\"search.pkl\")"
   ]
  }
 ],
 "metadata": {
  "kernelspec": {
   "display_name": ".venv",
   "language": "python",
   "name": "python3"
  },
  "language_info": {
   "codemirror_mode": {
    "name": "ipython",
    "version": 3
   },
   "file_extension": ".py",
   "mimetype": "text/x-python",
   "name": "python",
   "nbconvert_exporter": "python",
   "pygments_lexer": "ipython3",
   "version": "3.10.0"
  }
 },
 "nbformat": 4,
 "nbformat_minor": 2
}
