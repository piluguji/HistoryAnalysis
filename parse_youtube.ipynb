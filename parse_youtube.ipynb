{
 "cells": [
  {
   "cell_type": "code",
   "execution_count": 76,
   "metadata": {},
   "outputs": [],
   "source": [
    "from bs4 import BeautifulSoup\n",
    "import pandas as pd\n",
    "from datetime import datetime, timezone, timedelta\n",
    "import pytz\n",
    "from dateutil import tz\n",
    "\n",
    "# Load only needed parts of the HTML\n",
    "with open(\"Aaryan_takeout/watch-history.html\", \"r\", encoding=\"utf-8\") as f:\n",
    "    html_content = f.read(10_000_000)  # Read only the first 10MB for speed (adjust as needed)\n"
   ]
  },
  {
   "cell_type": "code",
   "execution_count": 77,
   "metadata": {},
   "outputs": [],
   "source": [
    "def convert_to_utc(datetime_str):\n",
    "    # Split the string into the date part and the timezone part\n",
    "    parts = datetime_str.rsplit(\" \", 1)  # Splitting at the last space\n",
    "    date_part = parts[0]  # The actual date/time string\n",
    "    tz_part = parts[1] if len(parts) > 1 else None  # Timezone string\n",
    "\n",
    "    # Convert to a naive datetime object\n",
    "    naive_dt = datetime.strptime(date_part, \"%b %d, %Y, %I:%M:%S %p\")\n",
    "\n",
    "    if tz_part:\n",
    "        try:\n",
    "            # Convert string timezone to a valid tz object\n",
    "            local_tz = tz.gettz(tz_part)\n",
    "            if local_tz is None:\n",
    "                raise ValueError(f\"Unknown timezone: {tz_part}\")\n",
    "\n",
    "            # Localize the naive datetime to the extracted timezone\n",
    "            localized_dt = naive_dt.replace(tzinfo=local_tz)\n",
    "        except Exception as e:\n",
    "            print(f\"Warning: {e}. Assuming UTC.\")\n",
    "            localized_dt = naive_dt.replace(tzinfo=pytz.UTC)  # Default to UTC if error\n",
    "    else:\n",
    "        # Assume UTC if no timezone information is present\n",
    "        localized_dt = naive_dt.replace(tzinfo=pytz.UTC)\n",
    "\n",
    "    # Convert to UTC\n",
    "    utc_dt = localized_dt.astimezone(pytz.UTC)\n",
    "\n",
    "    return utc_dt"
   ]
  },
  {
   "cell_type": "code",
   "execution_count": 78,
   "metadata": {},
   "outputs": [
    {
     "name": "stdout",
     "output_type": "stream",
     "text": [
      "finished\n"
     ]
    }
   ],
   "source": [
    "soup = BeautifulSoup(html_content, \"html.parser\")\n",
    "outer_cells = soup.find_all(\"div\", class_=\"outer-cell\", limit=100000)\n",
    "print('finished')\n",
    "# Extract text content from each 'outer-cell' div"
   ]
  },
  {
   "cell_type": "code",
   "execution_count": 79,
   "metadata": {},
   "outputs": [],
   "source": [
    "data = []\n",
    "for idx, cell in enumerate(outer_cells):\n",
    "    # Extract title\n",
    "    try: \n",
    "        if \"From Google Ads\" in cell.get_text():\n",
    "            continue\n",
    "        cell_text = cell.find(\"div\", class_=\"content-cell mdl-cell mdl-cell--6-col mdl-typography--body-1\").get_text(\"\\n\", strip=True).split(\"\\n\")\n",
    "        title = cell_text[1]\n",
    "        time = cell_text[-1]\n",
    "        time_dt = convert_to_utc(time)\n",
    "        data.append([title, time_dt])\n",
    "    except:\n",
    "        pass \n",
    "\n",
    "# Convert extracted data to a DataFrame\n",
    "df = pd.DataFrame(data, columns=[\"title\", \"datetime\"])"
   ]
  },
  {
   "cell_type": "code",
   "execution_count": 80,
   "metadata": {},
   "outputs": [
    {
     "name": "stdout",
     "output_type": "stream",
     "text": [
      "2024-10-30 18:30:10+00:00\n",
      "2025-02-15 01:38:54+00:00\n"
     ]
    }
   ],
   "source": [
    "print(df[\"datetime\"].min())\n",
    "print(df[\"datetime\"].max())"
   ]
  },
  {
   "cell_type": "code",
   "execution_count": 81,
   "metadata": {},
   "outputs": [],
   "source": [
    "dec_1 = datetime(2024, 12, 1, tzinfo=timezone.utc)\n",
    "feb_1 = datetime(2025, 2, 1, tzinfo=timezone.utc)\n",
    "\n",
    "# Filter rows within the last month\n",
    "df = df[(df[\"datetime\"] >= dec_1) & (df[\"datetime\"] <= feb_1)]"
   ]
  },
  {
   "cell_type": "code",
   "execution_count": 82,
   "metadata": {},
   "outputs": [],
   "source": [
    "df.to_pickle(\"youtube.pkl\")"
   ]
  }
 ],
 "metadata": {
  "kernelspec": {
   "display_name": ".venv",
   "language": "python",
   "name": "python3"
  },
  "language_info": {
   "codemirror_mode": {
    "name": "ipython",
    "version": 3
   },
   "file_extension": ".py",
   "mimetype": "text/x-python",
   "name": "python",
   "nbconvert_exporter": "python",
   "pygments_lexer": "ipython3",
   "version": "3.10.0"
  }
 },
 "nbformat": 4,
 "nbformat_minor": 2
}
