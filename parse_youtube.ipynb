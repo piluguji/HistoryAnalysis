{
 "cells": [
  {
   "cell_type": "code",
   "execution_count": 2,
   "metadata": {},
   "outputs": [],
   "source": [
    "from bs4 import BeautifulSoup\n",
    "import pandas as pd\n",
    "\n",
    "# Load the HTML file (assuming it's saved as 'file.html')\n",
    "with open(\"Aaryan_takeout/watch-history.html\", \"r\", encoding=\"utf-8\") as f:\n",
    "    html_content = f.read()"
   ]
  },
  {
   "cell_type": "code",
   "execution_count": 8,
   "metadata": {},
   "outputs": [],
   "source": [
    "from bs4 import BeautifulSoup\n",
    "import pandas as pd\n",
    "\n",
    "# Load only needed parts of the HTML\n",
    "with open(\"Aaryan_takeout/watch-history.html\", \"r\", encoding=\"utf-8\") as f:\n",
    "    html_content = f.read(500000)  # Read only the first 500KB for speed (adjust as needed)\n"
   ]
  },
  {
   "cell_type": "code",
   "execution_count": null,
   "metadata": {},
   "outputs": [
    {
     "name": "stdout",
     "output_type": "stream",
     "text": [
      "finished\n",
      "                                               Content\n",
      "0    YouTubeWatchedIs her ex a serial killer? | #Th...\n",
      "1    YouTubeWatchedCan You Guess The NBA Player By ...\n",
      "2    YouTubeWatchedUsing Algorithms To Make Money?!...\n",
      "3    YouTubeWatched4 Shopify tools to get you start...\n",
      "4    YouTubeWatchedThird Person at a MeetcuteStudio...\n",
      "..                                                 ...\n",
      "353  YouTubeWatchedDwight Howard On Why He Isn’t In...\n",
      "354  YouTubeVisitedhttps://www.amazon.com/stores/pa...\n",
      "355  YouTubeWatchedUSA Fitness Run Club 6secFeb 13,...\n",
      "356  YouTubeWatchedDishonestly arrested his opponen...\n",
      "357      YouTubeWatched#funny<a href=\"https://www.yout\n",
      "\n",
      "[358 rows x 1 columns]\n"
     ]
    }
   ],
   "source": [
    "soup = BeautifulSoup(html_content, \"html.parser\")\n",
    "outer_cells = soup.find_all(\"div\", class_=\"outer-cell\", limit=1000)\n",
    "print('finished')\n",
    "# Extract text content from each 'outer-cell' div\n",
    "data = []\n",
    "for cell in outer_cells:\n",
    "    # Extract title\n",
    "    title_tag = cell.find(\"p\", class_=\"mdl-typography--title\")\n",
    "    title = title_tag.get_text(strip=True) if title_tag else \"N/A\"\n",
    "\n",
    "    # Extract time (found in one of the 'content-cell' divs)\n",
    "    time_tag = cell.find(\"div\", class_=\"content-cell mdl-cell mdl-cell--6-col mdl-typography--body-1\")\n",
    "    time_text = time_tag.get_text(strip=True) if time_tag else \"N/A\"    data.append(cell.get_text(strip=True))  # Extract and clean text\n",
    "\n",
    "    data.append([title, time_text, \"Stuff\"])\n",
    "\n",
    "\n",
    "# Convert extracted data to a DataFrame\n",
    "df = pd.DataFrame(data, columns=[\"Content\"])"
   ]
  },
  {
   "cell_type": "code",
   "execution_count": 17,
   "metadata": {},
   "outputs": [
    {
     "name": "stdout",
     "output_type": "stream",
     "text": [
      "YouTubeWatchedIs her ex a serial killer? | #TheRookie (SPOILERS!)The Rookie (Fan Page)Feb 14, 2025, 8:38:54 PM ESTProducts:YouTubeWhy is this here?This activity was saved to your Google Account because the following settings were on: YouTube watch history. You can control these settingshere.\n"
     ]
    }
   ],
   "source": [
    "print(df.iloc[0]['Content'])"
   ]
  },
  {
   "cell_type": "code",
   "execution_count": 20,
   "metadata": {},
   "outputs": [
    {
     "data": {
      "text/plain": [
       "<div class=\"outer-cell mdl-cell mdl-cell--12-col mdl-shadow--2dp\"><div class=\"mdl-grid\"><div class=\"header-cell mdl-cell mdl-cell--12-col\"><p class=\"mdl-typography--title\">YouTube<br/></p></div><div class=\"content-cell mdl-cell mdl-cell--6-col mdl-typography--body-1\">Watched <a href=\"https://www.youtube.com/watch?v=6yDrNgcNppI\">Is her ex a serial killer? | #TheRookie (SPOILERS!)</a><br/><a href=\"https://www.youtube.com/channel/UCw8SISrWk-FboA_WnRrc4kw\">The Rookie (Fan Page)</a><br/>Feb 14, 2025, 8:38:54 PM EST</div><div class=\"content-cell mdl-cell mdl-cell--6-col mdl-typography--body-1 mdl-typography--text-right\"></div><div class=\"content-cell mdl-cell mdl-cell--12-col mdl-typography--caption\"><b>Products:</b><br/> YouTube<br/><b>Why is this here?</b><br/> This activity was saved to your Google Account because the following settings were on: YouTube watch history. You can control these settings  <a href=\"https://myaccount.google.com/activitycontrols\">here</a>.</div></div></div>"
      ]
     },
     "execution_count": 20,
     "metadata": {},
     "output_type": "execute_result"
    }
   ],
   "source": [
    "outer_cells[0]"
   ]
  }
 ],
 "metadata": {
  "kernelspec": {
   "display_name": ".venv",
   "language": "python",
   "name": "python3"
  },
  "language_info": {
   "codemirror_mode": {
    "name": "ipython",
    "version": 3
   },
   "file_extension": ".py",
   "mimetype": "text/x-python",
   "name": "python",
   "nbconvert_exporter": "python",
   "pygments_lexer": "ipython3",
   "version": "3.10.0"
  }
 },
 "nbformat": 4,
 "nbformat_minor": 2
}
